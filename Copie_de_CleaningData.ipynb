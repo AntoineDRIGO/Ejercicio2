{
  "cells": [
    {
      "cell_type": "markdown",
      "metadata": {
        "id": "_em5Btsrj3iE"
      },
      "source": [
        "<center><img src=\"https://i.imgur.com/zRrFdsf.png\" width=\"700\"></center>"
      ]
    },
    {
      "cell_type": "markdown",
      "metadata": {
        "id": "tswpoHU-j3iG"
      },
      "source": [
        "\n",
        "# Data Cleaning\n",
        "\n",
        "\n",
        "Having data does not always allow you to produce some analytics right away. There is often a lot of pre processing to be done.\n",
        "\n",
        "This material is about **Cleaning**: making sure each cell has a value that could be used in your coming procedures. There are always some _impurities_ that do not allow the computer to recognize the data correctly, i.e. _commas_ instead of _periods_ and viceversa, the presence of unneeded _blanks_, irrelevant symbols (dollar, euro symbols), or non-standard symbols to represent missing values.\n",
        "\n",
        "I will use two approaches. The first one is the smart use of regular expressions (**regex**), and the second one a **divide and conquer** strategy."
      ]
    },
    {
      "cell_type": "markdown",
      "metadata": {
        "id": "nd_9Urq5j3iH"
      },
      "source": [
        "# REGEX VERSUS DIVIDE AND CONQUER\n",
        "\n",
        "Imagine that you request the age people in an online form. Sometimes you run into answers with issues like these:\n",
        "\n",
        "- \"It is:24\"\n",
        "- \"It is: 44\"\n",
        "- \"It is54\"\n",
        "- \"64 it is\"\n",
        "- \"I am twenty\"\n",
        "- \"The 10th I turn 21\"\n",
        "- \"I am 15 years old\"\n",
        "- \"~20\""
      ]
    },
    {
      "cell_type": "markdown",
      "metadata": {
        "id": "qDAjK9bWj3iH"
      },
      "source": [
        "From the above examples, you are interested in the _age_, nothing else. The first two cases are _relatively_ easy to solve with divide and conquer, as you see a character that helps:  "
      ]
    },
    {
      "cell_type": "code",
      "execution_count": null,
      "metadata": {
        "id": "w1S3qys-j3iH"
      },
      "outputs": [],
      "source": [
        "case1=\"It is:24\"\n",
        "case2=\"It is: 34\"\n",
        "# try 1\n",
        "case1.split(':')[1]"
      ]
    },
    {
      "cell_type": "code",
      "execution_count": null,
      "metadata": {
        "id": "9odXnIpoj3iI"
      },
      "outputs": [],
      "source": [
        "#try 2:\n",
        "case2.split(':')[1]"
      ]
    },
    {
      "cell_type": "markdown",
      "metadata": {
        "id": "s6WoBlhcj3iI"
      },
      "source": [
        "Split broke the string using \":\" and produced a _list_.  The number will be the second element. However, in _case2_ you got an extra space. You need to think about a general rule, so maybe this is better:"
      ]
    },
    {
      "cell_type": "code",
      "execution_count": null,
      "metadata": {
        "id": "nhayIP9tj3iI"
      },
      "outputs": [],
      "source": [
        "case1.split(':')[1].strip()"
      ]
    },
    {
      "cell_type": "code",
      "execution_count": null,
      "metadata": {
        "id": "lq34KDYyj3iI"
      },
      "outputs": [],
      "source": [
        "case2.split(':')[1].strip()"
      ]
    },
    {
      "cell_type": "markdown",
      "metadata": {
        "id": "GNwsZYAxj3iI"
      },
      "source": [
        "Using _strip()_ gets rid of the spaces around the string.  Notice _strip()_ and _split()_ are functions in **base Python**. Pandas has its **own** functions.\n",
        "\n",
        "You can use the divide and conquer as long as every string you find follows the same pattern. Imagine those values make a column in a data frame:"
      ]
    },
    {
      "cell_type": "code",
      "execution_count": null,
      "metadata": {
        "id": "7qOPw_Myj3iI"
      },
      "outputs": [],
      "source": [
        "import pandas as pd\n",
        "\n",
        "ages=[\"It is:24\",\"It is: 44\",\"It is54\",\n",
        "      \"64 it is\",\"I am twenty\",\"The 10th I turn 21\",\n",
        "      \"I am 15 years old\",\"~20\"]\n",
        "\n",
        "someData=pd.DataFrame({'age':ages})\n",
        "someData"
      ]
    },
    {
      "cell_type": "markdown",
      "metadata": {
        "id": "8jocf4kuj3iJ"
      },
      "source": [
        "Now, let's use Pandas **own** strip and split:"
      ]
    },
    {
      "cell_type": "code",
      "execution_count": null,
      "metadata": {
        "id": "XKL_efs5j3iJ"
      },
      "outputs": [],
      "source": [
        "someData.age.str.split(':')"
      ]
    },
    {
      "cell_type": "markdown",
      "metadata": {
        "id": "kyT3RZxIj3iJ"
      },
      "source": [
        "Or alternatively:"
      ]
    },
    {
      "cell_type": "code",
      "execution_count": null,
      "metadata": {
        "id": "3Gg9lwC7j3iJ"
      },
      "outputs": [],
      "source": [
        "someData.age.str.split(':',expand=True)"
      ]
    },
    {
      "cell_type": "markdown",
      "metadata": {
        "id": "bQDHq_eaj3iJ"
      },
      "source": [
        "Notice the use of _expand_. This allows that each element in the list goes to a column. However, as there is **no consistent pattern** (location of the symbol \":\"), you do not get a good result. The situation requires the **REGEX** approach.\n",
        "\n",
        "Using regular expressions is a great way to go when there is no pattern to apply the previous strategy; however, it takes time to learn how to build a regular expression that will serve all your especific  needs in a particular situation.\n",
        "\n",
        "In general, you need to **explore** few *regex pattern*s before deciding what to use. I recommend using **contains()** for that:"
      ]
    },
    {
      "cell_type": "code",
      "execution_count": null,
      "metadata": {
        "id": "F-FdG9hQj3iJ"
      },
      "outputs": [],
      "source": [
        "# do each cell has a character that is not a number? (\\D)\n",
        "someData.age.str.contains(pat=r'\\D',\n",
        "                          regex=True)"
      ]
    },
    {
      "cell_type": "code",
      "execution_count": null,
      "metadata": {
        "id": "JRpn2AxBj3iJ"
      },
      "outputs": [],
      "source": [
        "# do each cell has a number character? (\\d)\n",
        "someData.age.str.contains(pat=r'\\d',regex=True)"
      ]
    },
    {
      "cell_type": "code",
      "execution_count": null,
      "metadata": {
        "id": "R9VL8VoSj3iJ"
      },
      "outputs": [],
      "source": [
        "# filter\n",
        "someData[~someData.age.str.contains(pat=r'\\d',regex=True)]"
      ]
    },
    {
      "cell_type": "code",
      "execution_count": null,
      "metadata": {
        "id": "DBigJRmFj3iK"
      },
      "outputs": [],
      "source": [
        "# is there a cell where you have\n",
        "# symbols beyond [^ ] alphanumeric (\\w) or spaces (\\s)?\n",
        "someData.age[someData.age.str.contains(pat=r'[^\\w\\s]',regex=True)]"
      ]
    },
    {
      "cell_type": "code",
      "execution_count": null,
      "metadata": {
        "id": "X7yjSHpoj3iK"
      },
      "outputs": [],
      "source": [
        "# what happens if I erase all non numbers (\\D)?\n",
        "someData.age.str.replace(pat=r'\\D',repl='',regex=True)"
      ]
    },
    {
      "cell_type": "code",
      "execution_count": null,
      "metadata": {
        "id": "15ja8D24j3iK"
      },
      "outputs": [],
      "source": [
        "# what happens if I extract consecutive numeric characters (\\d+) ?\n",
        "someData.age.str.extract(pat=r'(\\d+)',expand=True)"
      ]
    },
    {
      "cell_type": "code",
      "execution_count": null,
      "metadata": {
        "id": "fBR8ZqMHj3iK"
      },
      "outputs": [],
      "source": [
        "# what happens if I erase all\n",
        "# numbers (\\d+) followed by a texts [[a-z]+] ?\n",
        "someData.age.str.replace(pat=r'\\d+[a-z]+',\n",
        "                         repl='',\n",
        "                         regex=True)"
      ]
    },
    {
      "cell_type": "code",
      "execution_count": null,
      "metadata": {
        "id": "cQRDUTGXj3iK"
      },
      "outputs": [],
      "source": [
        "# so:\n",
        "someData.age.str.replace(pat=r'\\d+[a-z]+',\n",
        "                         repl='',\n",
        "                         regex=True).\\\n",
        "             str.extract(pat=r'(\\d+)',expand=True)"
      ]
    },
    {
      "cell_type": "code",
      "execution_count": null,
      "metadata": {
        "id": "oSbuk8caj3iK"
      },
      "outputs": [],
      "source": [
        "# using '|' (\"or\")\n",
        "# ^ beginning of string\n",
        "# $ end of the string\n",
        "someData.age.str.extract(pat=r'(^\\d+|\\d+$|\\s\\d+\\s)',\n",
        "                         expand=True)"
      ]
    },
    {
      "cell_type": "markdown",
      "metadata": {
        "id": "9FJ38iE6j3iK"
      },
      "source": [
        "Let me use both results:"
      ]
    },
    {
      "cell_type": "code",
      "execution_count": null,
      "metadata": {
        "id": "p6AtRGSfj3iL"
      },
      "outputs": [],
      "source": [
        "someData['age1']=someData.age.str.replace(pat=r'\\d+[a-z]+',\n",
        "                                          repl='',\n",
        "                                          regex=True).\\\n",
        "                                str.extract(pat=r'(\\d+)',expand=True)\n",
        "\n",
        "someData['age2']=someData.age.str.extract(pat=r'(^\\d+|\\d+$|\\s\\d+\\s)',\n",
        "                         expand=True)"
      ]
    },
    {
      "cell_type": "code",
      "execution_count": null,
      "metadata": {
        "id": "GWNwLVbaj3iL"
      },
      "outputs": [],
      "source": [
        "# we have\n",
        "someData"
      ]
    },
    {
      "cell_type": "code",
      "execution_count": null,
      "metadata": {
        "id": "gIJ3mjwOj3iL"
      },
      "outputs": [],
      "source": [
        "#checking data type\n",
        "someData.info()"
      ]
    },
    {
      "cell_type": "code",
      "execution_count": null,
      "metadata": {
        "id": "yIhdUZzpj3iL"
      },
      "outputs": [],
      "source": [
        "# they are same....right?\n",
        "someData['age1'].to_list()==someData['age2'].to_list()"
      ]
    },
    {
      "cell_type": "code",
      "execution_count": null,
      "metadata": {
        "id": "qXiPNcjaj3iL"
      },
      "outputs": [],
      "source": [
        "# where is the difference?\n",
        "someData['age1']==someData['age2']"
      ]
    },
    {
      "cell_type": "code",
      "execution_count": null,
      "metadata": {
        "id": "AeiGszo7j3iL"
      },
      "outputs": [],
      "source": [
        "# the same in both:\n",
        "set(someData['age1']) & set(someData['age2'])"
      ]
    },
    {
      "cell_type": "code",
      "execution_count": null,
      "metadata": {
        "id": "yHMbBebEj3iL"
      },
      "outputs": [],
      "source": [
        "#different in both\n",
        "set(someData['age1']) ^ set(someData['age2'])"
      ]
    },
    {
      "cell_type": "markdown",
      "metadata": {
        "id": "eG9ldav_j3iL"
      },
      "source": [
        "The last results tells you why they are not the same. Notice that seeing a pandas Series as a list reveals the details:"
      ]
    },
    {
      "cell_type": "code",
      "execution_count": null,
      "metadata": {
        "id": "SYS3Hmvlj3iM"
      },
      "outputs": [],
      "source": [
        "someData['age1'].to_list()"
      ]
    },
    {
      "cell_type": "code",
      "execution_count": null,
      "metadata": {
        "id": "doiIKvOQj3iM"
      },
      "outputs": [],
      "source": [
        "someData['age2'].to_list()"
      ]
    },
    {
      "cell_type": "code",
      "execution_count": null,
      "metadata": {
        "id": "I7GHSia6j3iM"
      },
      "outputs": [],
      "source": [
        "someData['age2'].str.strip().to_list()"
      ]
    }
  ],
  "metadata": {
    "anaconda-cloud": {
      "attach-environment": true,
      "summary": "test"
    },
    "hide_input": false,
    "kernelspec": {
      "display_name": "Python 3 (ipykernel)",
      "language": "python",
      "name": "python3"
    },
    "language_info": {
      "codemirror_mode": {
        "name": "ipython",
        "version": 3
      },
      "file_extension": ".py",
      "mimetype": "text/x-python",
      "name": "python",
      "nbconvert_exporter": "python",
      "pygments_lexer": "ipython3",
      "version": "3.11.5"
    },
    "toc-autonumbering": false,
    "colab": {
      "provenance": []
    }
  },
  "nbformat": 4,
  "nbformat_minor": 0
}